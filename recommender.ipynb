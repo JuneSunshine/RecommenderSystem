{
 "nbformat": 4,
 "nbformat_minor": 2,
 "metadata": {
  "language_info": {
   "name": "python",
   "codemirror_mode": {
    "name": "ipython",
    "version": 3
   },
   "version": "3.7.3-final"
  },
  "orig_nbformat": 2,
  "file_extension": ".py",
  "mimetype": "text/x-python",
  "name": "python",
  "npconvert_exporter": "python",
  "pygments_lexer": "ipython3",
  "version": 3,
  "kernelspec": {
   "name": "python37364bitvenvvenvbc3df7cdf6ab40c5bac46b7674d07045",
   "display_name": "Python 3.7.3 64-bit ('venv': venv)"
  }
 },
 "cells": [
  {
   "cell_type": "code",
   "execution_count": 6,
   "metadata": {},
   "outputs": [],
   "source": [
    "import pandas as pd"
   ]
  },
  {
   "cell_type": "markdown",
   "metadata": {},
   "source": [
    "First read the data into dataframe. Encoding needs to be paid attention to."
   ]
  },
  {
   "cell_type": "code",
   "execution_count": 7,
   "metadata": {},
   "outputs": [
    {
     "output_type": "execute_result",
     "data": {
      "text/plain": "                             name  \\\n0  Hilton Garden Seattle Downtown   \n1          Sheraton Grand Seattle   \n2   Crowne Plaza Seattle Downtown   \n3   Kimpton Hotel Monaco Seattle    \n4              The Westin Seattle   \n\n                                           address  \\\n0  1821 Boren Avenue, Seattle Washington 98101 USA   \n1   1400 6th Avenue, Seattle, Washington 98101 USA   \n2                  1113 6th Ave, Seattle, WA 98101   \n3                   1101 4th Ave, Seattle, WA98101   \n4   1900 5th Avenue, Seattle, Washington 98101 USA   \n\n                                                desc  \n0  Located on the southern tip of Lake Union, the...  \n1  Located in the city's vibrant core, the Sherat...  \n2  Located in the heart of downtown Seattle, the ...  \n3  What?s near our hotel downtown Seattle locatio...  \n4  Situated amid incredible shopping and iconic a...  ",
      "text/html": "<div>\n<style scoped>\n    .dataframe tbody tr th:only-of-type {\n        vertical-align: middle;\n    }\n\n    .dataframe tbody tr th {\n        vertical-align: top;\n    }\n\n    .dataframe thead th {\n        text-align: right;\n    }\n</style>\n<table border=\"1\" class=\"dataframe\">\n  <thead>\n    <tr style=\"text-align: right;\">\n      <th></th>\n      <th>name</th>\n      <th>address</th>\n      <th>desc</th>\n    </tr>\n  </thead>\n  <tbody>\n    <tr>\n      <th>0</th>\n      <td>Hilton Garden Seattle Downtown</td>\n      <td>1821 Boren Avenue, Seattle Washington 98101 USA</td>\n      <td>Located on the southern tip of Lake Union, the...</td>\n    </tr>\n    <tr>\n      <th>1</th>\n      <td>Sheraton Grand Seattle</td>\n      <td>1400 6th Avenue, Seattle, Washington 98101 USA</td>\n      <td>Located in the city's vibrant core, the Sherat...</td>\n    </tr>\n    <tr>\n      <th>2</th>\n      <td>Crowne Plaza Seattle Downtown</td>\n      <td>1113 6th Ave, Seattle, WA 98101</td>\n      <td>Located in the heart of downtown Seattle, the ...</td>\n    </tr>\n    <tr>\n      <th>3</th>\n      <td>Kimpton Hotel Monaco Seattle</td>\n      <td>1101 4th Ave, Seattle, WA98101</td>\n      <td>What?s near our hotel downtown Seattle locatio...</td>\n    </tr>\n    <tr>\n      <th>4</th>\n      <td>The Westin Seattle</td>\n      <td>1900 5th Avenue, Seattle, Washington 98101 USA</td>\n      <td>Situated amid incredible shopping and iconic a...</td>\n    </tr>\n  </tbody>\n</table>\n</div>"
     },
     "metadata": {},
     "execution_count": 7
    }
   ],
   "source": [
    "df = pd.read_csv('Seattle_Hotels.csv', encoding='latin-1')\n",
    "df.head()"
   ]
  },
  {
   "cell_type": "code",
   "execution_count": 9,
   "metadata": {},
   "outputs": [
    {
     "output_type": "execute_result",
     "data": {
      "text/plain": "<pyecharts.render.display.HTML at 0x11dea8a90>",
      "text/html": "<!DOCTYPE html>\n<html>\n<head>\n    <meta charset=\"UTF-8\">\n</head>\n<body>\n        <div id=\"4a7085c383b644ae8a6ddb55d7c2ee6d\" class=\"chart-container\" style=\"width:900px; height:500px;\"></div>\n    <script>\n        var chart_4a7085c383b644ae8a6ddb55d7c2ee6d = echarts.init(\n            document.getElementById('4a7085c383b644ae8a6ddb55d7c2ee6d'), 'westeros', {renderer: 'canvas'});\n        var option_4a7085c383b644ae8a6ddb55d7c2ee6d = {\n    \"animation\": true,\n    \"animationThreshold\": 2000,\n    \"animationDuration\": 1000,\n    \"animationEasing\": \"cubicOut\",\n    \"animationDelay\": 0,\n    \"animationDurationUpdate\": 300,\n    \"animationEasingUpdate\": \"cubicOut\",\n    \"animationDelayUpdate\": 0,\n    \"series\": [\n        {\n            \"type\": \"bar\",\n            \"name\": \"A\",\n            \"data\": [\n                5,\n                20,\n                35,\n                10\n            ],\n            \"barCategoryGap\": \"20%\",\n            \"label\": {\n                \"show\": true,\n                \"position\": \"top\",\n                \"margin\": 8\n            }\n        },\n        {\n            \"type\": \"bar\",\n            \"name\": \"B\",\n            \"data\": [\n                15,\n                6,\n                45,\n                66\n            ],\n            \"barCategoryGap\": \"20%\",\n            \"label\": {\n                \"show\": true,\n                \"position\": \"top\",\n                \"margin\": 8\n            }\n        }\n    ],\n    \"legend\": [\n        {\n            \"data\": [\n                \"A\",\n                \"B\"\n            ],\n            \"selected\": {\n                \"A\": true,\n                \"B\": true\n            },\n            \"show\": true,\n            \"padding\": 5,\n            \"itemGap\": 10,\n            \"itemWidth\": 25,\n            \"itemHeight\": 14\n        }\n    ],\n    \"tooltip\": {\n        \"show\": true,\n        \"trigger\": \"item\",\n        \"triggerOn\": \"mousemove|click\",\n        \"axisPointer\": {\n            \"type\": \"line\"\n        },\n        \"textStyle\": {\n            \"fontSize\": 14\n        },\n        \"borderWidth\": 0\n    },\n    \"xAxis\": [\n        {\n            \"show\": true,\n            \"scale\": false,\n            \"nameLocation\": \"end\",\n            \"nameGap\": 15,\n            \"gridIndex\": 0,\n            \"inverse\": false,\n            \"offset\": 0,\n            \"splitNumber\": 5,\n            \"minInterval\": 0,\n            \"splitLine\": {\n                \"show\": false,\n                \"lineStyle\": {\n                    \"show\": true,\n                    \"width\": 1,\n                    \"opacity\": 1,\n                    \"curveness\": 0,\n                    \"type\": \"solid\"\n                }\n            },\n            \"data\": [\n                \"shirts\",\n                \"sweaters\",\n                \"pants\",\n                \"socks\"\n            ]\n        }\n    ],\n    \"yAxis\": [\n        {\n            \"show\": true,\n            \"scale\": false,\n            \"nameLocation\": \"end\",\n            \"nameGap\": 15,\n            \"gridIndex\": 0,\n            \"inverse\": false,\n            \"offset\": 0,\n            \"splitNumber\": 5,\n            \"minInterval\": 0,\n            \"splitLine\": {\n                \"show\": false,\n                \"lineStyle\": {\n                    \"show\": true,\n                    \"width\": 1,\n                    \"opacity\": 1,\n                    \"curveness\": 0,\n                    \"type\": \"solid\"\n                }\n            }\n        }\n    ],\n    \"title\": [\n        {\n            \"text\": \"MainSubject\",\n            \"subtext\": \"Subtitle\",\n            \"padding\": 5,\n            \"itemGap\": 10\n        }\n    ]\n};\n        chart_4a7085c383b644ae8a6ddb55d7c2ee6d.setOption(option_4a7085c383b644ae8a6ddb55d7c2ee6d);\n    </script>\n</body>\n</html>\n"
     },
     "metadata": {},
     "execution_count": 9
    }
   ],
   "source": [
    "from pyecharts.charts import Bar\n",
    "from pyecharts import options as opts\n",
    "from pyecharts.globals import ThemeType, CurrentConfig, NotebookType\n",
    "\n",
    "CurrentConfig.NOTEBOOK_TYPE = NotebookType.JUPYTER_LAB\n",
    "\n",
    "bar = (Bar(init_opts=opts.InitOpts(theme=ThemeType.WESTEROS))\n",
    "        .add_xaxis(['shirts', 'sweaters', 'pants', 'socks'])\n",
    "        .add_yaxis(\"A\", [5, 20, 35, 10])\n",
    "        .add_yaxis(\"B\", [15, 6, 45, 66])\n",
    "        .set_global_opts(title_opts=opts.TitleOpts(title=\"MainSubject\", subtitle=\"Subtitle\")))\n",
    "bar.load_javascript()\n",
    "bar.render_notebook()"
   ]
  },
  {
   "cell_type": "code",
   "execution_count": 4,
   "metadata": {},
   "outputs": [
    {
     "output_type": "execute_result",
     "data": {
      "text/plain": "<pyecharts.render.display.HTML at 0x11d952630>",
      "text/html": "\n<script>\n    require.config({\n        paths: {\n            'echarts':'https://assets.pyecharts.org/assets/echarts.min', 'westeros':'https://assets.pyecharts.org/assets/themes/westeros'\n        }\n    });\n</script>\n\n        <div id=\"3255fbe89afb4c359baf53c3ed63e27a\" style=\"width:900px; height:500px;\"></div>\n\n<script>\n        require(['echarts', 'westeros'], function(echarts) {\n                var chart_3255fbe89afb4c359baf53c3ed63e27a = echarts.init(\n                    document.getElementById('3255fbe89afb4c359baf53c3ed63e27a'), 'westeros', {renderer: 'canvas'});\n                var option_3255fbe89afb4c359baf53c3ed63e27a = {\n    \"animation\": true,\n    \"animationThreshold\": 2000,\n    \"animationDuration\": 1000,\n    \"animationEasing\": \"cubicOut\",\n    \"animationDelay\": 0,\n    \"animationDurationUpdate\": 300,\n    \"animationEasingUpdate\": \"cubicOut\",\n    \"animationDelayUpdate\": 0,\n    \"series\": [\n        {\n            \"type\": \"bar\",\n            \"name\": \"A\",\n            \"data\": [\n                5,\n                20,\n                35,\n                10\n            ],\n            \"barCategoryGap\": \"20%\",\n            \"label\": {\n                \"show\": true,\n                \"position\": \"top\",\n                \"margin\": 8\n            }\n        },\n        {\n            \"type\": \"bar\",\n            \"name\": \"B\",\n            \"data\": [\n                15,\n                6,\n                45,\n                66\n            ],\n            \"barCategoryGap\": \"20%\",\n            \"label\": {\n                \"show\": true,\n                \"position\": \"top\",\n                \"margin\": 8\n            }\n        }\n    ],\n    \"legend\": [\n        {\n            \"data\": [\n                \"A\",\n                \"B\"\n            ],\n            \"selected\": {\n                \"A\": true,\n                \"B\": true\n            },\n            \"show\": true,\n            \"padding\": 5,\n            \"itemGap\": 10,\n            \"itemWidth\": 25,\n            \"itemHeight\": 14\n        }\n    ],\n    \"tooltip\": {\n        \"show\": true,\n        \"trigger\": \"item\",\n        \"triggerOn\": \"mousemove|click\",\n        \"axisPointer\": {\n            \"type\": \"line\"\n        },\n        \"textStyle\": {\n            \"fontSize\": 14\n        },\n        \"borderWidth\": 0\n    },\n    \"xAxis\": [\n        {\n            \"show\": true,\n            \"scale\": false,\n            \"nameLocation\": \"end\",\n            \"nameGap\": 15,\n            \"gridIndex\": 0,\n            \"inverse\": false,\n            \"offset\": 0,\n            \"splitNumber\": 5,\n            \"minInterval\": 0,\n            \"splitLine\": {\n                \"show\": false,\n                \"lineStyle\": {\n                    \"show\": true,\n                    \"width\": 1,\n                    \"opacity\": 1,\n                    \"curveness\": 0,\n                    \"type\": \"solid\"\n                }\n            },\n            \"data\": [\n                \"shirts\",\n                \"sweaters\",\n                \"pants\",\n                \"socks\"\n            ]\n        }\n    ],\n    \"yAxis\": [\n        {\n            \"show\": true,\n            \"scale\": false,\n            \"nameLocation\": \"end\",\n            \"nameGap\": 15,\n            \"gridIndex\": 0,\n            \"inverse\": false,\n            \"offset\": 0,\n            \"splitNumber\": 5,\n            \"minInterval\": 0,\n            \"splitLine\": {\n                \"show\": false,\n                \"lineStyle\": {\n                    \"show\": true,\n                    \"width\": 1,\n                    \"opacity\": 1,\n                    \"curveness\": 0,\n                    \"type\": \"solid\"\n                }\n            }\n        }\n    ],\n    \"title\": [\n        {\n            \"text\": \"MainSubject\",\n            \"subtext\": \"Subtitle\",\n            \"padding\": 5,\n            \"itemGap\": 10\n        }\n    ]\n};\n                chart_3255fbe89afb4c359baf53c3ed63e27a.setOption(option_3255fbe89afb4c359baf53c3ed63e27a);\n        });\n    </script>\n"
     },
     "metadata": {},
     "execution_count": 4
    }
   ],
   "source": []
  },
  {
   "cell_type": "code",
   "execution_count": null,
   "metadata": {},
   "outputs": [],
   "source": []
  }
 ]
}